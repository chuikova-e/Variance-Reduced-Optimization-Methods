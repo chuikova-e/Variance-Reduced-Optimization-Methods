{
 "cells": [
  {
   "cell_type": "code",
   "execution_count": 1,
   "metadata": {},
   "outputs": [],
   "source": [
    "import pandas as pd\n",
    "import numpy as np\n",
    "import matplotlib.pyplot as plt\n",
    "from scipy import sparse\n",
    "from time import time\n",
    "\n",
    "from tqdm import tqdm_notebook as tqdm\n",
    "\n",
    "%matplotlib inline\n",
    "\n",
    "from sklearn.datasets import load_svmlight_file"
   ]
  },
  {
   "cell_type": "code",
   "execution_count": 2,
   "metadata": {},
   "outputs": [],
   "source": [
    "x_train, labels = load_svmlight_file('usps')\n",
    "x_train = x_train.todense()\n",
    "labels = labels.astype(int) - 1\n",
    "h = int(max(labels))+1\n",
    "m = x_train.shape[1]\n",
    "n = len(labels)"
   ]
  },
  {
   "cell_type": "code",
   "execution_count": 3,
   "metadata": {},
   "outputs": [],
   "source": [
    "def multivariate_logloss_one_sample(x,y,w):\n",
    "    a = w@x.T\n",
    "    return np.log(np.exp(a).sum()) - w[y]@x.T\n",
    "\n",
    "def multivariate_logloss(x,y,w):  # for batch\n",
    "    return sum([multivariate_logloss_one_sample(x[i],y[i],w) for i in range(y.shape[0])])/y.shape[0]\n",
    "\n",
    "def loss_grad_one_sample(x,y,w):\n",
    "    c = np.zeros_like(w)\n",
    "    c[y] = x\n",
    "    a = w@x.T\n",
    "    return np.outer(np.exp(a), x)/(np.exp(a).sum()) - c\n",
    "\n",
    "def loss_grad(x,y,w):\n",
    "    samples_grad = np.asarray([loss_grad_one_sample(x[i], y[i], w) for i in range(y.shape[0])])\n",
    "    return samples_grad.mean(axis = 0)"
   ]
  },
  {
   "cell_type": "code",
   "execution_count": 4,
   "metadata": {},
   "outputs": [],
   "source": [
    "def simplex_projection(s,R):\n",
    "    if np.sum(s) <= R and np.alltrue(s >= 0):\n",
    "        return s\n",
    "    # Code taken from https://gist.github.com/daien/1272551\n",
    "    u = np.sort(s)[::-1]\n",
    "    cssv = np.cumsum(u)\n",
    "    try:\n",
    "        rho = np.nonzero(u * np.arange(1, len(u)+1) > (cssv - R))[0][-1]\n",
    "    except IndexError:\n",
    "        rho = 0\n",
    "    theta = (cssv[rho] - R) / (rho + 1.0)\n",
    "    return np.maximum(s-theta, 0)\n",
    "\n",
    "def nuclear_projection(A,R):\n",
    "    U, s, V =  np.linalg.svd(A, full_matrices=False)\n",
    "    s = simplex_projection(s,R)\n",
    "    return U.dot(np.diag(s).dot(V))"
   ]
  },
  {
   "cell_type": "code",
   "execution_count": 5,
   "metadata": {},
   "outputs": [],
   "source": [
    "def iterate_minibatches(inputs, targets, batchsize, shuffle=False):\n",
    "    assert inputs.shape[0] == targets.shape[0]\n",
    "    if shuffle:\n",
    "        indices = np.arange(inputs.shape[0])\n",
    "        np.random.shuffle(indices)\n",
    "    for start_idx in range(0, inputs.shape[0] - batchsize + 1, batchsize):\n",
    "        if shuffle:\n",
    "            excerpt = indices[start_idx:start_idx + batchsize]\n",
    "        else:\n",
    "            excerpt = slice(start_idx, start_idx + batchsize)\n",
    "        yield inputs[excerpt], targets[excerpt]"
   ]
  },
  {
   "cell_type": "code",
   "execution_count": 6,
   "metadata": {
    "scrolled": false
   },
   "outputs": [
    {
     "data": {
      "application/vnd.jupyter.widget-view+json": {
       "model_id": "f8a15d2cf4f84fb29180953d153e0f67",
       "version_major": 2,
       "version_minor": 0
      },
      "text/plain": [
       "HBox(children=(IntProgress(value=0, max=250), HTML(value='')))"
      ]
     },
     "metadata": {},
     "output_type": "display_data"
    },
    {
     "name": "stdout",
     "output_type": "stream",
     "text": [
      "\n"
     ]
    },
    {
     "data": {
      "text/plain": [
       "Text(0,0.5,'loss')"
      ]
     },
     "execution_count": 6,
     "metadata": {},
     "output_type": "execute_result"
    },
    {
     "data": {
      "image/png": "[encoded data removed]",
      "text/plain": [
       "<Figure size 432x288 with 1 Axes>"
      ]
     },
     "metadata": {},
     "output_type": "display_data"
    }
   ],
   "source": [
    "n_iter = 250\n",
    "batch_size = 100\n",
    "step = 1e-2\n",
    "w = np.load('losses/w.npy')[0]\n",
    "R = 50\n",
    "start_time = time()\n",
    "times = []\n",
    "indices = np.random.randint(0, n, batch_size)\n",
    "loss_history = [multivariate_logloss(x_train[indices], labels[indices], w)]\n",
    "times.append(round(time() - start_time, 2))\n",
    "\n",
    "\n",
    "for i in tqdm(range(n_iter)):\n",
    "    j = 0\n",
    "    step = 1/(h*(i+1)**2)\n",
    "    indices = np.random.randint(0, len(labels), batch_size)\n",
    "    grad = loss_grad(x_train[indices], labels[indices], w)\n",
    "    w = w-step*grad\n",
    "    w = nuclear_projection(w, R)\n",
    "    j += 1\n",
    "    loss_history.append(multivariate_logloss(x_train, labels, w))\n",
    "    times.append(round(time() - start_time, 2))\n",
    "\n",
    "loss_history = np.asarray(loss_history).squeeze()\n",
    "times = np.asarray(times).squeeze()\n",
    "\n",
    "\n",
    "plt.plot(times, loss_history)\n",
    "plt.title('SGD, usps')\n",
    "plt.xlabel('time')\n",
    "plt.ylabel('loss')"
   ]
  },
  {
   "cell_type": "code",
   "execution_count": 7,
   "metadata": {},
   "outputs": [],
   "source": [
    "np.save('losses/losses_SGD', loss_history)\n",
    "np.save('losses/times_SGD', times)"
   ]
  }
 ],
 "metadata": {
  "kernelspec": {
   "display_name": "Python 3",
   "language": "python",
   "name": "python3"
  },
  "language_info": {
   "codemirror_mode": {
    "name": "ipython",
    "version": 3
   },
   "file_extension": ".py",
   "mimetype": "text/x-python",
   "name": "python",
   "nbconvert_exporter": "python",
   "pygments_lexer": "ipython3",
   "version": "3.6.2"
  }
 },
 "nbformat": 4,
 "nbformat_minor": 2
}
