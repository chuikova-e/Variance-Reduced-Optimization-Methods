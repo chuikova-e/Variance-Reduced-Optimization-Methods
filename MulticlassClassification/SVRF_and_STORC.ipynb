{
 "cells": [
  {
   "cell_type": "code",
   "execution_count": 2,
   "metadata": {},
   "outputs": [],
   "source": [
    "import numpy as np\n",
    "import scipy.sparse as sp\n",
    "from scipy.sparse.linalg import svds\n",
    "from sklearn import datasets\n",
    "import matplotlib.pyplot as plt\n",
    "from time import time"
   ]
  },
  {
   "cell_type": "markdown",
   "metadata": {},
   "source": [
    "# SVRF"
   ]
  },
  {
   "cell_type": "code",
   "execution_count": 6,
   "metadata": {},
   "outputs": [],
   "source": [
    "def CalculatePartialGradient(w, i):\n",
    "    grad = np.array([e[i] for l in range(h)])\n",
    "    exponents = np.exp(e[i].dot(w.transpose()))\n",
    "    exponents /= exponents.sum()\n",
    "    for l in range(h):\n",
    "        grad[l] *= exponents[l]\n",
    "    grad[y[i]] -= e[i]\n",
    "    return grad\n",
    "    \n",
    "def CalculateGradient(w):\n",
    "    grads_sum = np.full((h, m), 0.0)\n",
    "    for i in range(n):\n",
    "        grads_sum += CalculatePartialGradient(w, i)\n",
    "    return grads_sum / n\n",
    "    \n",
    "def DoLinOpt(matrix):\n",
    "    u, s, vt = svds(matrix, 1)\n",
    "    return -tau * u.dot(vt)\n",
    "\n",
    "def CalculateVarRedSG(w, full_grad, w_0):\n",
    "    rand_ind = np.random.randint(0, n)\n",
    "    return CalculatePartialGradient(w, rand_ind) -\\\n",
    "            (CalculatePartialGradient(w_0, rand_ind) - full_grad)\n",
    "\n",
    "def GetGamma(k):\n",
    "    return 0.1 / (k + 2)\n",
    "\n",
    "def GetM(k):\n",
    "    return 50\n",
    "\n",
    "def GetN(t):\n",
    "    return 25\n",
    "\n",
    "def CalcLoss(w):\n",
    "    loss_sum = 0\n",
    "    for i in range(n):\n",
    "        loss_sum += np.log(np.exp(e[i].dot(w.transpose())).sum())\n",
    "        loss_sum -= e[i].dot(w[y[i]])\n",
    "    return loss_sum / n \n",
    "\n",
    "def DoSVRF(T, start_time, times):\n",
    "    w = []\n",
    "    x_init = np.full((h, m), 0.0)\n",
    "    full_grad = CalculateGradient(x_init)\n",
    "    w += [DoLinOpt(full_grad)]\n",
    "    for t in range(T):\n",
    "        x = []\n",
    "        x += [w[-1]]\n",
    "        full_grad = CalculateGradient(x[0])\n",
    "        for k in range(GetN(t)):\n",
    "            if k != 0:\n",
    "                sum_grads = np.full((h, m), 0.0)\n",
    "                for i in range(GetM(k)):\n",
    "                    sum_grads += CalculateVarRedSG(x[-1], full_grad, x[0])\n",
    "                curr_grad = sum_grads / GetM(k)\n",
    "            else:\n",
    "                curr_grad = full_grad\n",
    "            \n",
    "            v = DoLinOpt(curr_grad)\n",
    "            gamma = GetGamma(k)\n",
    "            x += [(1 - gamma) * x[-1] + gamma * v]\n",
    "            w += [x[-1]]\n",
    "            times.append(round(time() - start_time, 2))\n",
    "    return w, times"
   ]
  },
  {
   "cell_type": "code",
   "execution_count": 7,
   "metadata": {},
   "outputs": [],
   "source": [
    "a, b = datasets.load_svmlight_file('usps')"
   ]
  },
  {
   "cell_type": "code",
   "execution_count": 8,
   "metadata": {},
   "outputs": [],
   "source": [
    "e = a.toarray()\n",
    "y = np.array(b, int) - 1\n",
    "tau = 50\n",
    "n, m = e.shape\n",
    "h = len(set(y))"
   ]
  },
  {
   "cell_type": "code",
   "execution_count": 9,
   "metadata": {},
   "outputs": [
    {
     "data": {
      "text/plain": [
       "[<matplotlib.lines.Line2D at 0x7fee370c3a20>]"
      ]
     },
     "execution_count": 9,
     "metadata": {},
     "output_type": "execute_result"
    },
    {
     "data": {
      "image/png": "[encoded data removed]",
      "text/plain": [
       "<Figure size 432x288 with 1 Axes>"
      ]
     },
     "metadata": {},
     "output_type": "display_data"
    }
   ],
   "source": [
    "times = [0]\n",
    "start_time = time()\n",
    "seq, times = DoSVRF(10, start_time, times)\n",
    "vals = [CalcLoss(w) for w in seq]\n",
    "plt.plot(times, vals)"
   ]
  },
  {
   "cell_type": "code",
   "execution_count": 10,
   "metadata": {},
   "outputs": [],
   "source": [
    "np.save('losses/losses_SVRF', np.array(vals))\n",
    "np.save('losses/times_SVRF', times)"
   ]
  },
  {
   "cell_type": "markdown",
   "metadata": {},
   "source": [
    "# STORC"
   ]
  },
  {
   "cell_type": "code",
   "execution_count": 11,
   "metadata": {},
   "outputs": [],
   "source": [
    "tau = 50\n",
    "n, m = e.shape\n",
    "h = len(set(y))\n",
    "\n",
    "def CalculatePartialGradient(w, i):\n",
    "    grad = np.array([e[i] for l in range(h)])\n",
    "    exponents = np.exp(e[i].dot(w.transpose()))\n",
    "    exponents /= exponents.sum()\n",
    "    for l in range(h):\n",
    "        grad[l] *= exponents[l]\n",
    "    grad[y[i]] -= e[i]\n",
    "    return grad\n",
    "    \n",
    "\n",
    "def CalculateGradient(w):\n",
    "    grads_sum = np.full((h, m), 0.0)\n",
    "    for i in range(n):\n",
    "        grads_sum += CalculatePartialGradient(w, i)\n",
    "    return grads_sum / n\n",
    "    \n",
    "def DoLinOpt(matrix):\n",
    "    u, s, vt = svds(matrix, 1)\n",
    "    return -tau * u.dot(vt)\n",
    "\n",
    "def CalculateVarRedSG(w, full_grad, w_0):\n",
    "    rand_ind = np.random.randint(0, n)\n",
    "    return CalculatePartialGradient(w, rand_ind) -\\\n",
    "            (CalculatePartialGradient(w_0, rand_ind) - full_grad)\n",
    "\n",
    "def CalcLoss(w):\n",
    "    loss_sum = 0\n",
    "    for i in range(n):\n",
    "        loss_sum += np.log(np.exp(e[i].dot(w.transpose())).sum())\n",
    "        loss_sum -= e[i].dot(w[y[i]])\n",
    "    return loss_sum / n \n",
    "\n",
    "def GetGamma(k):\n",
    "    return 0.5 / (k + 2)\n",
    "\n",
    "def GetM(k):\n",
    "    return 50\n",
    "\n",
    "def GetN(t):\n",
    "    return 50\n",
    "\n",
    "def GetEta(k):\n",
    "    return 30 / (50 * (k + 1))\n",
    "\n",
    "def GetBeta(k):\n",
    "    return 3 / (k + 1)\n",
    "\n",
    "def DoSTORC(T, start_time, times):\n",
    "    w = []\n",
    "    x_init = np.full((h, m), 0.0)\n",
    "    full_grad = CalculateGradient(x_init)\n",
    "    w += [DoLinOpt(full_grad)]\n",
    "    for t in range(T):\n",
    "        x = []\n",
    "        y = []\n",
    "        x += [w[-1]]\n",
    "        y += [w[-1]]\n",
    "        full_grad = CalculateGradient(y[0])\n",
    "        for k in range(GetN(t)):\n",
    "            gamma = GetGamma(k)\n",
    "            if k != 0:\n",
    "                z = (1 - gamma) * y[-1] + gamma * x[-1]\n",
    "                sum_grads = np.full((h, m), 0.0)\n",
    "                M = GetM(k)\n",
    "                for i in range(M):\n",
    "                    sum_grads += CalculateVarRedSG(z, full_grad, y[0])\n",
    "                curr_grad = sum_grads / M\n",
    "            else:\n",
    "                z = y[-1]\n",
    "                curr_grad = full_grad\n",
    "            \n",
    "            beta = GetBeta(k)\n",
    "            eta = GetEta(k)\n",
    "            xi = x[-1]\n",
    "            count = 2\n",
    "            while 1:\n",
    "                additional_grad = beta * (xi - x[-1]) + curr_grad\n",
    "                zeta = DoLinOpt(additional_grad)\n",
    "                if (xi - zeta).dot(additional_grad.transpose()).trace() <= eta:\n",
    "                    break\n",
    "                step = 1 / count\n",
    "                xi = (1 - step) * xi + step * zeta\n",
    "                count += 1\n",
    "            x += [xi]\n",
    "            \n",
    "            y += [(1 - gamma) * y[-1] + gamma * x[-1]]\n",
    "            w += [y[-1]]\n",
    "            times.append(round(time()-start_time, 2))\n",
    "    return w, times"
   ]
  },
  {
   "cell_type": "code",
   "execution_count": 12,
   "metadata": {},
   "outputs": [],
   "source": [
    "times = [0]\n",
    "start_time = time()\n",
    "\n",
    "seq, times = DoSTORC(2, start_time, times)\n",
    "vals = [CalcLoss(w) for w in seq]"
   ]
  },
  {
   "cell_type": "code",
   "execution_count": 13,
   "metadata": {},
   "outputs": [
    {
     "data": {
      "text/plain": [
       "[<matplotlib.lines.Line2D at 0x7fee37057fd0>]"
      ]
     },
     "execution_count": 13,
     "metadata": {},
     "output_type": "execute_result"
    },
    {
     "data": {
      "image/png": "[encoded data removed]",
      "text/plain": [
       "<Figure size 432x288 with 1 Axes>"
      ]
     },
     "metadata": {},
     "output_type": "display_data"
    }
   ],
   "source": [
    "plt.plot(times, vals)"
   ]
  },
  {
   "cell_type": "code",
   "execution_count": 14,
   "metadata": {},
   "outputs": [],
   "source": [
    "np.save('losses/losses_STORC', np.array(vals))\n",
    "np.save('losses/times_STORC', times)"
   ]
  }
 ],
 "metadata": {
  "kernelspec": {
   "display_name": "Python 3",
   "language": "python",
   "name": "python3"
  },
  "language_info": {
   "codemirror_mode": {
    "name": "ipython",
    "version": 3
   },
   "file_extension": ".py",
   "mimetype": "text/x-python",
   "name": "python",
   "nbconvert_exporter": "python",
   "pygments_lexer": "ipython3",
   "version": "3.6.2"
  }
 },
 "nbformat": 4,
 "nbformat_minor": 2
}
