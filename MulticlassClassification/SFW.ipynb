{
 "cells": [
  {
   "cell_type": "code",
   "execution_count": 1,
   "metadata": {},
   "outputs": [],
   "source": [
    "import random\n",
    "from time import time\n",
    "import cvxpy as cvx\n",
    "from tqdm import tqdm_notebook as tqdm\n",
    "import numpy as np\n",
    "from scipy import sparse\n",
    "import matplotlib.pyplot as plt\n",
    "from sklearn.datasets import load_svmlight_file\n",
    "from scipy.sparse import linalg\n",
    "\n",
    "%matplotlib inline"
   ]
  },
  {
   "cell_type": "code",
   "execution_count": 2,
   "metadata": {},
   "outputs": [],
   "source": [
    "features, targets = load_svmlight_file('usps')\n",
    "targets = np.array(list(map(int, targets))) - 1\n",
    "features = np.array(features.todense())\n",
    "\n",
    "num_examples, feature_dim = features.shape"
   ]
  },
  {
   "cell_type": "code",
   "execution_count": 4,
   "metadata": {},
   "outputs": [],
   "source": [
    "def f_i(features, targets, w, i):\n",
    "    target_i = targets[i]\n",
    "    return np.log(np.sum(np.exp(w@features[i]))) - w[target_i]@features[i]\n",
    "    \n",
    "def result_function(features, targets, w):\n",
    "    loss = 0\n",
    "    n_examples = targets.shape[0]\n",
    "    \n",
    "    for i in range(n_examples):\n",
    "        loss += f_i(features, targets, w, i)\n",
    "    return loss/n_examples\n",
    "\n",
    "def grad_i(features, targets, w, i):\n",
    "    exp = np.exp(w@features[i].T)\n",
    "    grad = np.outer(exp/np.sum(exp),features[i])\n",
    "    grad[targets[i]] -= - features[i]\n",
    "    return grad\n",
    "\n",
    "def grad(features, targets, w, stochastic=False, batch_size=50):\n",
    "    n_examples = targets.shape[0]\n",
    "    gradient = np.zeros_like(w)\n",
    "    if stochastic:\n",
    "        rand_index = np.random.randint(0, n_examples-1, size=batch_size)\n",
    "        for i in rand_index:\n",
    "            gradient += grad_i(features, targets, w, i)\n",
    "        return gradient/batch_size\n",
    "    else:\n",
    "        for i in range(n_examples):\n",
    "            gradient += grad_i(features, targets, w, i)\n",
    "        return gradient/n_examples"
   ]
  },
  {
   "cell_type": "code",
   "execution_count": 5,
   "metadata": {},
   "outputs": [],
   "source": [
    "def SFW_step(w_k, k, gradient):\n",
    "    u, s, vt = linalg.svds(gradient, 1)\n",
    "    v_k = -50*u@vt\n",
    "    gamma = 2./(k + 2.)\n",
    "    w_k = (1 - gamma)*w_k + gamma*v_k\n",
    "    return w_k"
   ]
  },
  {
   "cell_type": "code",
   "execution_count": 6,
   "metadata": {},
   "outputs": [
    {
     "data": {
      "application/vnd.jupyter.widget-view+json": {
       "model_id": "4eb1f65ecd8d427eacafa457a8fe9154",
       "version_major": 2,
       "version_minor": 0
      },
      "text/plain": [
       "HBox(children=(IntProgress(value=0, max=250), HTML(value='')))"
      ]
     },
     "metadata": {},
     "output_type": "display_data"
    },
    {
     "name": "stdout",
     "output_type": "stream",
     "text": [
      "\n"
     ]
    }
   ],
   "source": [
    "start_time = time()\n",
    "step=0\n",
    "losses, times = [], [0]\n",
    "w = np.load('losses/w.npy')[0]\n",
    "loss = result_function(features, targets, w)\n",
    "losses.append(loss)\n",
    "times.append(round(time() - start_time, 2))\n",
    "\n",
    "for step in tqdm(range(250)):\n",
    "    gradient = grad(features, targets, w, stochastic=True)\n",
    "    w = SFW_step(w, step+1, gradient)\n",
    "    loss = result_function(features, targets, w)\n",
    "    losses.append(loss)\n",
    "    times.append(round(time() - start_time, 2))"
   ]
  },
  {
   "cell_type": "code",
   "execution_count": 7,
   "metadata": {},
   "outputs": [
    {
     "data": {
      "image/png": "[encoded data removed]",
      "text/plain": [
       "<Figure size 432x288 with 1 Axes>"
      ]
     },
     "metadata": {},
     "output_type": "display_data"
    }
   ],
   "source": [
    "plt.plot(times[:-1], losses, label = 'SFF')\n",
    "plt.xlabel('time (sec)')\n",
    "plt.ylabel('loss')\n",
    "plt.legend()\n",
    "plt.show()"
   ]
  },
  {
   "cell_type": "code",
   "execution_count": 8,
   "metadata": {},
   "outputs": [],
   "source": [
    "np.save('losses/losses_SFF', losses)\n",
    "np.save('losses/times_SFF', times[:-1])"
   ]
  }
 ],
 "metadata": {
  "kernelspec": {
   "display_name": "Python 3",
   "language": "python",
   "name": "python3"
  },
  "language_info": {
   "codemirror_mode": {
    "name": "ipython",
    "version": 3
   },
   "file_extension": ".py",
   "mimetype": "text/x-python",
   "name": "python",
   "nbconvert_exporter": "python",
   "pygments_lexer": "ipython3",
   "version": "3.6.2"
  }
 },
 "nbformat": 4,
 "nbformat_minor": 2
}
