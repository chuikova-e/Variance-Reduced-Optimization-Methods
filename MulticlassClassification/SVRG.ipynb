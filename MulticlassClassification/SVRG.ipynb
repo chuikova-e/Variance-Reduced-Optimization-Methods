{
 "cells": [
  {
   "cell_type": "code",
   "execution_count": 5,
   "metadata": {},
   "outputs": [],
   "source": [
    "import random\n",
    "from time import time\n",
    "import cvxpy as cvx\n",
    "from tqdm import tqdm_notebook as tqdm\n",
    "import numpy as np\n",
    "from scipy import sparse\n",
    "import matplotlib.pyplot as plt\n",
    "from sklearn.datasets import load_svmlight_file\n",
    "from scipy.sparse import linalg\n",
    "\n",
    "%matplotlib inline"
   ]
  },
  {
   "cell_type": "code",
   "execution_count": 2,
   "metadata": {},
   "outputs": [],
   "source": [
    "features, targets = load_svmlight_file('usps')\n",
    "targets = np.array(list(map(int, targets))) - 1\n",
    "features = np.array(features.todense())\n",
    "\n",
    "num_examples, feature_dim = features.shape\n"
   ]
  },
  {
   "cell_type": "code",
   "execution_count": 4,
   "metadata": {},
   "outputs": [],
   "source": [
    "def f_i(features, targets, w, i):\n",
    "    target_i = targets[i]\n",
    "    return np.log(np.sum(np.exp(w@features[i]))) - w[target_i]@features[i]\n",
    "    \n",
    "def result_function(features, targets, w):\n",
    "    loss = 0\n",
    "    n_examples = targets.shape[0]\n",
    "    for i in range(n_examples):\n",
    "        loss += f_i(features, targets, w, i)\n",
    "    return loss/n_examples\n",
    "\n",
    "def grad_i(features, targets, w, i):\n",
    "    exp = np.exp(w@features[i].T)\n",
    "    grad = np.outer(exp/np.sum(exp),features[i])\n",
    "    grad[targets[i]] -= - features[i]\n",
    "    return grad    \n",
    "\n",
    "def grad(features, targets, w, stochastic=False, batch_size=50):\n",
    "    n_examples = targets.shape[0]\n",
    "    gradient = np.zeros_like(w)\n",
    "    if stochastic:\n",
    "        rand_index = np.random.randint(0, n_examples-1, size=batch_size)\n",
    "        for i in rand_index:\n",
    "            gradient += grad_i(features, targets, w, i)\n",
    "        return gradient/batch_size\n",
    "    else:\n",
    "        for i in range(n_examples):\n",
    "            gradient += grad_i(features, targets, w, i)\n",
    "        return gradient/n_examples"
   ]
  },
  {
   "cell_type": "code",
   "execution_count": 6,
   "metadata": {},
   "outputs": [],
   "source": [
    "def simplex_projection(s,R=50):\n",
    "    if np.sum(s) <= R and np.alltrue(s >= 0):\n",
    "        return s\n",
    "    # Code taken from https://gist.github.com/daien/1272551\n",
    "    u = np.sort(s)[::-1]\n",
    "    cssv = np.cumsum(u)\n",
    "    try:\n",
    "        rho = np.nonzero(u * np.arange(1, len(u)+1) > (cssv - R))[0][-1]\n",
    "    except IndexError:\n",
    "        rho = 0\n",
    "    theta = (cssv[rho] - R) / (rho + 1.)\n",
    "    return np.maximum(s-theta, 0)\n",
    "\n",
    "def nuclear_projection(A,R=50):\n",
    "    U, s, V =  np.linalg.svd(A, full_matrices=False)\n",
    "    s = simplex_projection(s,R)\n",
    "    return U.dot(np.diag(s).dot(V))"
   ]
  },
  {
   "cell_type": "code",
   "execution_count": 8,
   "metadata": {},
   "outputs": [
    {
     "data": {
      "application/vnd.jupyter.widget-view+json": {
       "model_id": "7785690670a64c8b8c94be3278ba7caa",
       "version_major": 2,
       "version_minor": 0
      },
      "text/plain": [
       "HBox(children=(IntProgress(value=0, max=5), HTML(value='')))"
      ]
     },
     "metadata": {},
     "output_type": "display_data"
    },
    {
     "data": {
      "application/vnd.jupyter.widget-view+json": {
       "model_id": "49d45a28a8554ff0815e98e1a0105aa9",
       "version_major": 2,
       "version_minor": 0
      },
      "text/plain": [
       "HBox(children=(IntProgress(value=0, max=50), HTML(value='')))"
      ]
     },
     "metadata": {},
     "output_type": "display_data"
    },
    {
     "data": {
      "application/vnd.jupyter.widget-view+json": {
       "model_id": "aff5b24b4358460eb5debb5308f162cd",
       "version_major": 2,
       "version_minor": 0
      },
      "text/plain": [
       "HBox(children=(IntProgress(value=0, max=50), HTML(value='')))"
      ]
     },
     "metadata": {},
     "output_type": "display_data"
    },
    {
     "data": {
      "application/vnd.jupyter.widget-view+json": {
       "model_id": "fc1ab0a059df4976b7da506964880fe1",
       "version_major": 2,
       "version_minor": 0
      },
      "text/plain": [
       "HBox(children=(IntProgress(value=0, max=50), HTML(value='')))"
      ]
     },
     "metadata": {},
     "output_type": "display_data"
    },
    {
     "data": {
      "application/vnd.jupyter.widget-view+json": {
       "model_id": "88cb3a67468445fab8ac310789a6e892",
       "version_major": 2,
       "version_minor": 0
      },
      "text/plain": [
       "HBox(children=(IntProgress(value=0, max=50), HTML(value='')))"
      ]
     },
     "metadata": {},
     "output_type": "display_data"
    },
    {
     "data": {
      "application/vnd.jupyter.widget-view+json": {
       "model_id": "03a6aef920094e86a0a356426c0afd21",
       "version_major": 2,
       "version_minor": 0
      },
      "text/plain": [
       "HBox(children=(IntProgress(value=0, max=50), HTML(value='')))"
      ]
     },
     "metadata": {},
     "output_type": "display_data"
    },
    {
     "name": "stdout",
     "output_type": "stream",
     "text": [
      "\n"
     ]
    },
    {
     "data": {
      "image/png": "[encoded data removed]",
      "text/plain": [
       "<Figure size 432x288 with 1 Axes>"
      ]
     },
     "metadata": {},
     "output_type": "display_data"
    }
   ],
   "source": [
    "n_k = 0.1\n",
    "w = np.load('losses/w.npy')[0]\n",
    "loss = result_function(features, targets, w)\n",
    "losses = [loss]\n",
    "step = 0\n",
    "times = [0]\n",
    "start_time=time()\n",
    "        \n",
    "for total_step in tqdm(range(5)):\n",
    "    w_0 = w\n",
    "    snapshot_grad = grad(features, targets, w_0)\n",
    "    \n",
    "    for _ in tqdm(range(50)):\n",
    "        step += 1\n",
    "        \n",
    "        gradient = np.zeros_like(w)\n",
    "        gradient_w_0 = np.zeros_like(w)\n",
    "        for _ in range(50):\n",
    "            rand_index = np.random.randint(0, targets.shape[0]-1)\n",
    "            gradient += grad_i(features, targets, w, rand_index)\n",
    "            gradient_w_0 += grad_i(features, targets, w_0, rand_index)\n",
    "            \n",
    "        gradient /= 50\n",
    "        gradient_w_0/= 50\n",
    "        \n",
    "        total_gradient = gradient - gradient_w_0 + snapshot_grad\n",
    "        n_k = 0.1/step**2\n",
    "        w = w - n_k*total_gradient\n",
    "        w = nuclear_projection(w)\n",
    "\n",
    "        loss = result_function(features, targets, w)\n",
    "        losses.append(loss)\n",
    "        times.append(round(time() - start_time, 2))\n",
    "        \n",
    "plt.plot(times,losses, label='SVRG')\n",
    "plt.xlabel('time(sec)')\n",
    "plt.ylabel('loss')\n",
    "plt.show()"
   ]
  },
  {
   "cell_type": "code",
   "execution_count": 9,
   "metadata": {},
   "outputs": [],
   "source": [
    "np.save('losses/losses_reSGD', losses)\n",
    "np.save('losses/times_reSGD', times)"
   ]
  }
 ],
 "metadata": {
  "kernelspec": {
   "display_name": "Python 3",
   "language": "python",
   "name": "python3"
  },
  "language_info": {
   "codemirror_mode": {
    "name": "ipython",
    "version": 3
   },
   "file_extension": ".py",
   "mimetype": "text/x-python",
   "name": "python",
   "nbconvert_exporter": "python",
   "pygments_lexer": "ipython3",
   "version": "3.6.2"
  }
 },
 "nbformat": 4,
 "nbformat_minor": 2
}
