{
 "cells": [
  {
   "cell_type": "code",
   "execution_count": 5,
   "metadata": {},
   "outputs": [],
   "source": [
    "import numpy as np\n",
    "from time import time\n",
    "import scipy.sparse as sps\n",
    "from tqdm import tqdm_notebook as tqdm\n",
    "import matplotlib.pyplot as plt\n",
    "from sklearn.preprocessing import normalize\n",
    "\n",
    "%matplotlib inline"
   ]
  },
  {
   "cell_type": "code",
   "execution_count": 15,
   "metadata": {},
   "outputs": [],
   "source": [
    "data = np.genfromtxt('web-Stanford.txt', dtype=[('FromNodeId', np.intp),\n",
    "                                        ('ToNodeId', np.intp)])\n",
    "P = sps.csr_matrix((np.ones(len(data)), (data['FromNodeId']-1, data['ToNodeId']-1)))\n",
    "P += sps.identity(P.shape[0])\n",
    "P = normalize(P, norm='l1', axis=0)"
   ]
  },
  {
   "cell_type": "code",
   "execution_count": 16,
   "metadata": {},
   "outputs": [],
   "source": [
    "def result_function(x, P):\n",
    "    return ((x - P.T@x)**2).sum()\n",
    "def gradient(x, P):\n",
    "    I = sps.identity(P.shape[0])\n",
    "    return 2*(x - P.T@x).T@(I - P)"
   ]
  },
  {
   "cell_type": "code",
   "execution_count": 17,
   "metadata": {},
   "outputs": [],
   "source": [
    "def proj(a, y):\n",
    " \n",
    "    l = y/a\n",
    "    idx = np.argsort(l)\n",
    "    d = len(l)\n",
    "    evalpL = lambda k: np.sum(a[idx[k:]]*(y[idx[k:]] - l[idx[k]]*a[idx[k:]]) ) -1\n",
    " \n",
    "    def bisectsearch():\n",
    "        idxL, idxH = 0, d-1\n",
    "        L = evalpL(idxL)\n",
    "        H = evalpL(idxH)\n",
    "        if L<0:\n",
    "            return idxL\n",
    " \n",
    "        while (idxH-idxL)>1:\n",
    "            iMid = int((idxL+idxH)/2)\n",
    "            M = evalpL(iMid)\n",
    "            if M>0:\n",
    "                idxL, L = iMid, M\n",
    "            else:\n",
    "                idxH, H = iMid, M\n",
    "        return idxH\n",
    " \n",
    "    k = bisectsearch()\n",
    "    lam = (np.sum(a[idx[k:]]*y[idx[k:]])-1)/np.sum(a[idx[k:]])\n",
    "    x = np.maximum(0, y-lam*a)\n",
    " \n",
    "    return x"
   ]
  },
  {
   "cell_type": "markdown",
   "metadata": {},
   "source": [
    "#### method with $\\alpha = \\frac{1}{k+2}$"
   ]
  },
  {
   "cell_type": "code",
   "execution_count": 21,
   "metadata": {},
   "outputs": [
    {
     "data": {
      "application/vnd.jupyter.widget-view+json": {
       "model_id": "9f092724a0814c3d93f97b49c71d6160",
       "version_major": 2,
       "version_minor": 0
      },
      "text/plain": [
       "HBox(children=(IntProgress(value=0), HTML(value='')))"
      ]
     },
     "metadata": {},
     "output_type": "display_data"
    },
    {
     "name": "stdout",
     "output_type": "stream",
     "text": [
      "\n"
     ]
    },
    {
     "data": {
      "text/plain": [
       "[<matplotlib.lines.Line2D at 0x7f16019f2da0>]"
      ]
     },
     "execution_count": 21,
     "metadata": {},
     "output_type": "execute_result"
    },
    {
     "data": {
      "image/png": "[encoded data removed]",
      "text/plain": [
       "<Figure size 432x288 with 1 Axes>"
      ]
     },
     "metadata": {},
     "output_type": "display_data"
    }
   ],
   "source": [
    "x = np.zeros(P.shape[0])\n",
    "x[3] = 1\n",
    "times = [0]\n",
    "start_time = time()\n",
    "losses = [result_function(x, P)]\n",
    "for step in tqdm(range(100)):\n",
    "    grad = gradient(x, P)\n",
    "    alpha = 1/(step+2)\n",
    "    x = x - alpha*grad\n",
    "    x = proj(np.ones(x.shape[0]),x)\n",
    "    loss = result_function(x, P)\n",
    "    losses.append(loss)\n",
    "    times.append(round(time()-start_time, 2))\n",
    "plt.plot(times, losses)"
   ]
  },
  {
   "cell_type": "code",
   "execution_count": 22,
   "metadata": {},
   "outputs": [],
   "source": [
    "np.save('pagerank/losses_GD.npy', losses)\n",
    "np.save('pagerank/times_SGD.npy', times)"
   ]
  },
  {
   "cell_type": "markdown",
   "metadata": {},
   "source": [
    "#### method with Polyak step"
   ]
  },
  {
   "cell_type": "code",
   "execution_count": 19,
   "metadata": {},
   "outputs": [
    {
     "data": {
      "application/vnd.jupyter.widget-view+json": {
       "model_id": "55905911de2844109c801e89d801386c",
       "version_major": 2,
       "version_minor": 0
      },
      "text/plain": [
       "HBox(children=(IntProgress(value=0), HTML(value='')))"
      ]
     },
     "metadata": {},
     "output_type": "display_data"
    },
    {
     "name": "stdout",
     "output_type": "stream",
     "text": [
      "\n"
     ]
    },
    {
     "data": {
      "text/plain": [
       "[<matplotlib.lines.Line2D at 0x7f16198872b0>]"
      ]
     },
     "execution_count": 19,
     "metadata": {},
     "output_type": "execute_result"
    },
    {
     "data": {
      "image/png": "[encoded data removed]",
      "text/plain": [
       "<Figure size 432x288 with 1 Axes>"
      ]
     },
     "metadata": {},
     "output_type": "display_data"
    }
   ],
   "source": [
    "x = np.zeros(P.shape[0])\n",
    "x[3] = 1\n",
    "times = [0]\n",
    "start_time = time()\n",
    "losses = [result_function(x, P)]\n",
    "for step in tqdm(range(100)):\n",
    "    grad = gradient(x, P)\n",
    "    alpha = losses[-1]/np.linalg.norm(grad)\n",
    "    x = x - alpha*grad\n",
    "    x = proj(np.ones(x.shape[0]),x)\n",
    "    loss = result_function(x, P)\n",
    "    losses.append(loss)\n",
    "    times.append(round(time()-start_time, 2))\n",
    "plt.plot(times, losses)"
   ]
  },
  {
   "cell_type": "code",
   "execution_count": 20,
   "metadata": {},
   "outputs": [],
   "source": [
    "np.save('pagerank/losses_GD_polyak.npy', losses)\n",
    "np.save('pagerank/times_GD_polyak.npy', times)"
   ]
  }
 ],
 "metadata": {
  "kernelspec": {
   "display_name": "Python 3",
   "language": "python",
   "name": "python3"
  },
  "language_info": {
   "codemirror_mode": {
    "name": "ipython",
    "version": 3
   },
   "file_extension": ".py",
   "mimetype": "text/x-python",
   "name": "python",
   "nbconvert_exporter": "python",
   "pygments_lexer": "ipython3",
   "version": "3.6.2"
  }
 },
 "nbformat": 4,
 "nbformat_minor": 2
}
