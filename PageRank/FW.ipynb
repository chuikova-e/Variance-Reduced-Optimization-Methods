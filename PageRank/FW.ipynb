{
 "cells": [
  {
   "cell_type": "code",
   "execution_count": 13,
   "metadata": {},
   "outputs": [],
   "source": [
    "from time import time\n",
    "import numpy as np\n",
    "import scipy.sparse as sps\n",
    "from tqdm import tqdm_notebook as tqdm\n",
    "import matplotlib.pyplot as plt\n",
    "from sklearn.preprocessing import normalize\n",
    "\n",
    "\n",
    "%matplotlib inline\n",
    "\n",
    "data = np.genfromtxt('web-Stanford.txt', dtype=[('FromNodeId', np.intp),\n",
    "                                        ('ToNodeId', np.intp)])\n",
    "P = sps.csr_matrix((np.ones(len(data)), (data['FromNodeId']-1, data['ToNodeId']-1)))"
   ]
  },
  {
   "cell_type": "code",
   "execution_count": 14,
   "metadata": {},
   "outputs": [],
   "source": [
    "P += sps.identity(P.shape[0])"
   ]
  },
  {
   "cell_type": "code",
   "execution_count": 15,
   "metadata": {},
   "outputs": [],
   "source": [
    "P = normalize(P, axis=0, norm='l1')"
   ]
  },
  {
   "cell_type": "code",
   "execution_count": 16,
   "metadata": {},
   "outputs": [],
   "source": [
    "def result_function(x, P):\n",
    "    return ((x - P.T@x)**2).sum()\n",
    "def gradient(x, P):\n",
    "    I = sps.identity(P.shape[0])\n",
    "    return 2*(x - P.T@x).T@(I - P)"
   ]
  },
  {
   "cell_type": "code",
   "execution_count": 17,
   "metadata": {},
   "outputs": [],
   "source": [
    "def SFW_step(x, k, gradient):\n",
    "    one_ind = np.argmin(gradient)\n",
    "    v = np.zeros_like(gradient)\n",
    "    v[one_ind] = 1.\n",
    "    \n",
    "    gamma = 2./(k + 2.)\n",
    "    x = (1 - gamma)*x + gamma*v\n",
    "    return x"
   ]
  },
  {
   "cell_type": "code",
   "execution_count": 25,
   "metadata": {},
   "outputs": [
    {
     "data": {
      "application/vnd.jupyter.widget-view+json": {
       "model_id": "1aa9042e73764c23abec71145988798f",
       "version_major": 2,
       "version_minor": 0
      },
      "text/plain": [
       "HBox(children=(IntProgress(value=0, max=250), HTML(value='')))"
      ]
     },
     "metadata": {},
     "output_type": "display_data"
    }
   ],
   "source": [
    "x = np.ones((P.shape[0]))\n",
    "x = x/len(x)\n",
    "losses = []\n",
    "loss = result_function(x, P)\n",
    "losses.append(loss)\n",
    "times = [0]\n",
    "start_time = time()\n",
    "\n",
    "for step in tqdm(range(250)):\n",
    "    grad = gradient(x, P)\n",
    "    x = SFW_step(x, step, grad)\n",
    "    loss = result_function(x, P)\n",
    "    losses.append(loss)\n",
    "    times.append(round(time() - start_time))"
   ]
  },
  {
   "cell_type": "code",
   "execution_count": 26,
   "metadata": {},
   "outputs": [
    {
     "data": {
      "text/plain": [
       "[<matplotlib.lines.Line2D at 0x7f9ff7dc9cc0>]"
      ]
     },
     "execution_count": 26,
     "metadata": {},
     "output_type": "execute_result"
    },
    {
     "data": {
      "image/png": "[encoded data removed]",
      "text/plain": [
       "<Figure size 432x288 with 1 Axes>"
      ]
     },
     "metadata": {},
     "output_type": "display_data"
    }
   ],
   "source": [
    "plt.plot(times, losses)"
   ]
  },
  {
   "cell_type": "code",
   "execution_count": 27,
   "metadata": {},
   "outputs": [],
   "source": [
    "np.save('pagerank/losses_FW.npy', losses[1:])\n",
    "np.save('pagerank/times_FW.npy', times[1:])"
   ]
  }
 ],
 "metadata": {
  "kernelspec": {
   "display_name": "Python 3",
   "language": "python",
   "name": "python3"
  },
  "language_info": {
   "codemirror_mode": {
    "name": "ipython",
    "version": 3
   },
   "file_extension": ".py",
   "mimetype": "text/x-python",
   "name": "python",
   "nbconvert_exporter": "python",
   "pygments_lexer": "ipython3",
   "version": "3.6.2"
  }
 },
 "nbformat": 4,
 "nbformat_minor": 2
}
