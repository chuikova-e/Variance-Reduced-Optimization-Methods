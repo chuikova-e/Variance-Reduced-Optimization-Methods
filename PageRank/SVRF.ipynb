{
 "cells": [
  {
   "cell_type": "code",
   "execution_count": 18,
   "metadata": {},
   "outputs": [],
   "source": [
    "import numpy as np\n",
    "from time import time\n",
    "import scipy.sparse as sps\n",
    "from sklearn.preprocessing import normalize\n",
    "from scipy import sparse\n",
    "from scipy.sparse.linalg import svds\n",
    "from sklearn import datasets\n",
    "import matplotlib.pyplot as plt"
   ]
  },
  {
   "cell_type": "code",
   "execution_count": 19,
   "metadata": {},
   "outputs": [],
   "source": [
    "V = 281903\n",
    "E = 2312497"
   ]
  },
  {
   "cell_type": "code",
   "execution_count": 20,
   "metadata": {},
   "outputs": [],
   "source": [
    "data = np.genfromtxt('web-Stanford.txt', dtype=[('FromNodeId', np.intp),\n",
    "                                        ('ToNodeId', np.intp)])\n",
    "P = sps.csr_matrix((np.ones(len(data)), (data['FromNodeId']-1, data['ToNodeId']-1)))\n",
    "#P += sps.identity(P.shape[0])\n",
    "P = normalize(P, axis=0, norm='l1')"
   ]
  },
  {
   "cell_type": "code",
   "execution_count": 21,
   "metadata": {},
   "outputs": [],
   "source": [
    "A = sps.identity(P.shape[0]) - P.T - P + P.T@P"
   ]
  },
  {
   "cell_type": "code",
   "execution_count": 23,
   "metadata": {},
   "outputs": [],
   "source": [
    "def CalculatePartialGradient(w, i):\n",
    "    \n",
    "    grad = sparse.csr_matrix(([1], ([i], [0])), shape=(V, 1))\n",
    "    coeff = 2 * A[i].dot(w)\n",
    "    return grad.dot(coeff) * V\n",
    "\n",
    "def CalculateGradient(w):\n",
    "    return 2 * A.dot(w)\n",
    "    \n",
    "def DoLinOpt(vect):\n",
    "    j = vect.argmin()\n",
    "    return sparse.csr_matrix(([1], ([j], [0])), shape=(V, 1))\n",
    "\n",
    "def CalculateVarRedSG(w, full_grad, w_0):\n",
    "    rand_ind = np.random.randint(0, V)\n",
    "    return CalculatePartialGradient(w, rand_ind) -\\\n",
    "            (CalculatePartialGradient(w_0, rand_ind) - full_grad)\n",
    "\n",
    "def GetGamma(k):\n",
    "    return 0.1 / (k + 2)\n",
    "\n",
    "def GetM(k):\n",
    "    return 50\n",
    "\n",
    "def GetN(t):\n",
    "    return 25\n",
    "\n",
    "def CalcLoss(w):\n",
    "    return w.transpose().dot(A.dot(w)) \n",
    "\n",
    "def DoSVRF(T, start_time, times):\n",
    "    w = []\n",
    "    x_init = sparse.csr_matrix(([1 / V for i in range(V)], ([i for i in range(V)], [0 for i in range(V)])), shape=(V, 1))\n",
    "    full_grad = CalculateGradient(x_init)\n",
    "    w += [DoLinOpt(full_grad)]\n",
    "    for t in range(T):\n",
    "        x = []\n",
    "        x += [w[-1]]\n",
    "        full_grad = CalculateGradient(x[0])\n",
    "        for k in range(GetN(t)):\n",
    "            if k != 0:\n",
    "                sum_grads = x_init\n",
    "                for i in range(GetM(k)):\n",
    "                    sum_grads += CalculateVarRedSG(x[-1], full_grad, x[0])\n",
    "                curr_grad = sum_grads / GetM(k)\n",
    "            else:\n",
    "                curr_grad = full_grad\n",
    "            \n",
    "            v = DoLinOpt(curr_grad)\n",
    "            gamma = GetGamma(k)\n",
    "            x += [(1 - gamma) * x[-1] + gamma * v]\n",
    "            w += [x[-1]]\n",
    "            times.append(round(time() - start_time, 2))\n",
    "    return w, times"
   ]
  },
  {
   "cell_type": "code",
   "execution_count": 24,
   "metadata": {},
   "outputs": [],
   "source": [
    "times = [0]\n",
    "start_time = time()\n",
    "seq, times = DoSVRF(5, start_time, times)\n",
    "vals = [CalcLoss(w) for w in seq]\n",
    "vals = [val.toarray()[0][0] for val in vals]"
   ]
  },
  {
   "cell_type": "code",
   "execution_count": 27,
   "metadata": {},
   "outputs": [
    {
     "data": {
      "image/png": "[encoded data removed]",
      "text/plain": [
       "<Figure size 432x288 with 1 Axes>"
      ]
     },
     "metadata": {},
     "output_type": "display_data"
    }
   ],
   "source": [
    "plt.plot(times, vals, label = 'SVRF')\n",
    "plt.xlabel('time(sec)')\n",
    "plt.ylabel('loss')\n",
    "plt.legend()\n",
    "plt.show()"
   ]
  },
  {
   "cell_type": "code",
   "execution_count": 26,
   "metadata": {},
   "outputs": [],
   "source": [
    "np.save('pagerank/losses_SVRF', np.array(vals))\n",
    "np.save('pagerank/times_SVRF', np.array(times))"
   ]
  }
 ],
 "metadata": {
  "kernelspec": {
   "display_name": "Python 3",
   "language": "python",
   "name": "python3"
  },
  "language_info": {
   "codemirror_mode": {
    "name": "ipython",
    "version": 3
   },
   "file_extension": ".py",
   "mimetype": "text/x-python",
   "name": "python",
   "nbconvert_exporter": "python",
   "pygments_lexer": "ipython3",
   "version": "3.6.2"
  }
 },
 "nbformat": 4,
 "nbformat_minor": 2
}
